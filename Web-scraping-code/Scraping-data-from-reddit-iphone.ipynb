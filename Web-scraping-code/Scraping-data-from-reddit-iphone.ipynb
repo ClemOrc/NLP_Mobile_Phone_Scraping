{
 "cells": [
  {
   "cell_type": "code",
   "execution_count": 8,
   "metadata": {},
   "outputs": [],
   "source": [
    "import requests\n",
    "import pandas as pd\n",
    "from datetime import datetime, timedelta, timezone\n",
    "from dotenv import load_dotenv\n",
    "import os\n",
    "import praw"
   ]
  },
  {
   "cell_type": "code",
   "execution_count": 10,
   "metadata": {},
   "outputs": [],
   "source": [
    "# Define subreddits and keywords\n",
    "subreddits = [\"iPhone16\", \"iPhone16Pro\", \"iPhone16ProMax\"]\n",
    "keywords = [\"camera\", \"battery\", \"design\", \"display\", \"performance\", \"durability\"]"
   ]
  },
  {
   "cell_type": "code",
   "execution_count": 12,
   "metadata": {},
   "outputs": [],
   "source": [
    "# Define the release date of iPhone 16 Pro\n",
    "release_date = datetime(2024, 9, 20, tzinfo=timezone.utc)  # September 20, 2024, in UTC\n",
    "start_date = int(release_date.timestamp())  # Convert to UNIX timestamp\n",
    "end_date = int(datetime.now(timezone.utc).timestamp())  # Current timestam"
   ]
  },
  {
   "cell_type": "code",
   "execution_count": 71,
   "metadata": {},
   "outputs": [
    {
     "name": "stdout",
     "output_type": "stream",
     "text": [
      "Start Date (Unix): 1726790400 -> 2024-09-20 00:00:00\n",
      "End Date (Unix): 1738858389 -> 2025-02-06 16:13:09\n"
     ]
    },
    {
     "name": "stderr",
     "output_type": "stream",
     "text": [
      "/var/folders/lb/69kfl84s4gs1jvnfcnp4ky740000gn/T/ipykernel_2582/496210793.py:7: DeprecationWarning: datetime.datetime.utcfromtimestamp() is deprecated and scheduled for removal in a future version. Use timezone-aware objects to represent datetimes in UTC: datetime.datetime.fromtimestamp(timestamp, datetime.UTC).\n",
      "  print(f\"Start Date (Unix): {start_date} -> {datetime.utcfromtimestamp(start_date)}\")\n",
      "/var/folders/lb/69kfl84s4gs1jvnfcnp4ky740000gn/T/ipykernel_2582/496210793.py:8: DeprecationWarning: datetime.datetime.utcfromtimestamp() is deprecated and scheduled for removal in a future version. Use timezone-aware objects to represent datetimes in UTC: datetime.datetime.fromtimestamp(timestamp, datetime.UTC).\n",
      "  print(f\"End Date (Unix): {end_date} -> {datetime.utcfromtimestamp(end_date)}\")\n"
     ]
    }
   ],
   "source": [
    "# Correct release date for iPhone 16 Pro\n",
    "release_date = datetime(2024, 9, 20, tzinfo=timezone.utc)  # September 20, 2024, in UTC\n",
    "start_date = int(release_date.timestamp())  # Convert to UNIX timestamp\n",
    "end_date = int(datetime.now(timezone.utc).timestamp())  # Current timestamp\n",
    "\n",
    "# Print the timestamps for debugging\n",
    "print(f\"Start Date (Unix): {start_date} -> {datetime.utcfromtimestamp(start_date)}\")\n",
    "print(f\"End Date (Unix): {end_date} -> {datetime.utcfromtimestamp(end_date)}\")"
   ]
  },
  {
   "cell_type": "code",
   "execution_count": 75,
   "metadata": {},
   "outputs": [
    {
     "name": "stdout",
     "output_type": "stream",
     "text": [
      "Fetching posts from 2024-09-20 00:00:00+00:00 to 2025-02-06 16:14:33+00:00\n",
      "Fetching data from subreddit: iPhone16Pro\n"
     ]
    },
    {
     "name": "stderr",
     "output_type": "stream",
     "text": [
      "/var/folders/lb/69kfl84s4gs1jvnfcnp4ky740000gn/T/ipykernel_2582/1875748904.py:27: DeprecationWarning: datetime.datetime.utcfromtimestamp() is deprecated and scheduled for removal in a future version. Use timezone-aware objects to represent datetimes in UTC: datetime.datetime.fromtimestamp(timestamp, datetime.UTC).\n",
      "  post_date = datetime.utcfromtimestamp(submission.created_utc).strftime('%Y-%m-%d')\n",
      "/var/folders/lb/69kfl84s4gs1jvnfcnp4ky740000gn/T/ipykernel_2582/1875748904.py:32: DeprecationWarning: datetime.datetime.utcfromtimestamp() is deprecated and scheduled for removal in a future version. Use timezone-aware objects to represent datetimes in UTC: datetime.datetime.fromtimestamp(timestamp, datetime.UTC).\n",
      "  \"created_utc\": datetime.utcfromtimestamp(submission.created_utc).strftime('%Y-%m-%d %H:%M:%S'),\n"
     ]
    },
    {
     "name": "stdout",
     "output_type": "stream",
     "text": [
      "Fetching data from subreddit: iPhone16ProMax\n",
      "     subreddit                                   title  \\\n",
      "0  iPhone16Pro       Camera Button Slanted on Pro Max?   \n",
      "1  iPhone16Pro    16Pro so lag! Just want my 13P back!   \n",
      "2  iPhone16Pro                             Main camera   \n",
      "3  iPhone16Pro                     iPhone 16 Pro Issue   \n",
      "4  iPhone16Pro  Stock camera processes photos too much   \n",
      "\n",
      "                                            selftext          created_utc  \\\n",
      "0  Got a 16 Pro Max last Saturday and I just noti...  2025-02-06 14:35:41   \n",
      "1  My brand new 16Pro has been laggy/glitchy sinc...  2025-02-06 13:29:34   \n",
      "2                                                     2025-02-06 09:39:05   \n",
      "3  I’m not very happy with the drain on iPhone 16...  2025-02-06 08:05:01   \n",
      "4        1st is stock camera, 2nd is Halide Mark ii   2025-02-06 08:01:51   \n",
      "\n",
      "    post_date  net_votes  num_comments  \\\n",
      "0  2025-02-06          1             1   \n",
      "1  2025-02-06          0            11   \n",
      "2  2025-02-06          3             0   \n",
      "3  2025-02-06         13            39   \n",
      "4  2025-02-06          4             2   \n",
      "\n",
      "                                                 url  \n",
      "0  https://www.reddit.com/r/iPhone16Pro/comments/...  \n",
      "1  https://www.reddit.com/r/iPhone16Pro/comments/...  \n",
      "2               https://i.redd.it/ot2ghobfohhe1.jpeg  \n",
      "3  https://www.reddit.com/r/iPhone16Pro/comments/...  \n",
      "4             https://www.reddit.com/gallery/1iixk58  \n"
     ]
    }
   ],
   "source": [
    "import praw\n",
    "import pandas as pd\n",
    "from datetime import datetime, timezone\n",
    "from dotenv import load_dotenv\n",
    "import os\n",
    "import time\n",
    "\n",
    "# Load environment variables from .env file\n",
    "load_dotenv()\n",
    "\n",
    "# Initialize the Reddit API client\n",
    "reddit = praw.Reddit(\n",
    "    client_id=os.getenv(\"REDDIT_CLIENT_ID\"),\n",
    "    client_secret=os.getenv(\"REDDIT_CLIENT_SECRET\"),\n",
    "    user_agent=os.getenv(\"REDDIT_USER_AGENT\"),\n",
    ")\n",
    "\n",
    "# Function to fetch posts manually filtered by timestamps\n",
    "def fetch_reddit_data(subreddit, keywords, start_date, end_date, limit=100):\n",
    "    all_posts = []\n",
    "    try:\n",
    "        subreddit_obj = reddit.subreddit(subreddit)\n",
    "        for submission in subreddit_obj.new(limit=limit):  # Fetch 'new' posts\n",
    "            # Filter posts manually by timestamps\n",
    "            if start_date <= submission.created_utc <= end_date:\n",
    "                if any(keyword.lower() in submission.title.lower() or keyword.lower() in submission.selftext.lower() for keyword in keywords):\n",
    "                    post_date = datetime.utcfromtimestamp(submission.created_utc).strftime('%Y-%m-%d')\n",
    "                    all_posts.append({\n",
    "                        \"subreddit\": subreddit,\n",
    "                        \"title\": submission.title,\n",
    "                        \"selftext\": submission.selftext,\n",
    "                        \"created_utc\": datetime.utcfromtimestamp(submission.created_utc).strftime('%Y-%m-%d %H:%M:%S'),\n",
    "                        \"post_date\": post_date,\n",
    "                        \"net_votes\": submission.score,\n",
    "                        \"num_comments\": submission.num_comments,\n",
    "                        \"url\": submission.url\n",
    "                    })\n",
    "            time.sleep(0.1)  # Add a short delay to avoid hitting rate limits\n",
    "    except Exception as e:\n",
    "        print(f\"Error fetching data from r/{subreddit}: {e}\")\n",
    "    \n",
    "    return all_posts\n",
    "\n",
    "# Define the release date of iPhone 16 Pro\n",
    "release_date = datetime(2024, 9, 20, tzinfo=timezone.utc)  # September 20, 2024\n",
    "start_date = int(release_date.timestamp())  # Convert to UNIX timestamp\n",
    "end_date = int(datetime.now(timezone.utc).timestamp())  # Current timestamp\n",
    "\n",
    "# Debug: Print start and end dates\n",
    "print(f\"Fetching posts from {datetime.fromtimestamp(start_date, tz=timezone.utc)} to {datetime.fromtimestamp(end_date, tz=timezone.utc)}\")\n",
    "\n",
    "# Define subreddits and keywords\n",
    "subreddits = [\"iPhone16Pro\", \"iPhone16ProMax\"]\n",
    "keywords = [\"camera\", \"battery\", \"design\", \"display\", \"performance\", \"durability\"]\n",
    "\n",
    "# Fetch data from multiple subreddits\n",
    "all_posts = []\n",
    "for subreddit in subreddits:\n",
    "    print(f\"Fetching data from subreddit: {subreddit}\")\n",
    "    posts = fetch_reddit_data(subreddit, keywords, start_date, end_date, limit=100)\n",
    "    all_posts.extend(posts)\n",
    "\n",
    "# Convert to a DataFrame\n",
    "df = pd.DataFrame(all_posts)\n",
    "print(df.head())  # Print the first few rows of the DataFrame"
   ]
  },
  {
   "cell_type": "code",
   "execution_count": 79,
   "metadata": {},
   "outputs": [
    {
     "name": "stdout",
     "output_type": "stream",
     "text": [
      "Data saved\n"
     ]
    }
   ],
   "source": [
    "# Save to a CSV file\n",
    "df.to_csv(\"reddit_posts_iphone16pro.csv\", index=False)\n",
    "print(\"Data saved\")\n"
   ]
  },
  {
   "cell_type": "code",
   "execution_count": 77,
   "metadata": {},
   "outputs": [
    {
     "name": "stdout",
     "output_type": "stream",
     "text": [
      "Number of rows pulled: 72\n"
     ]
    }
   ],
   "source": [
    "num_rows = len(df)\n",
    "print(f\"Number of rows pulled: {num_rows}\")"
   ]
  },
  {
   "cell_type": "markdown",
   "metadata": {},
   "source": [
    "## Comments"
   ]
  },
  {
   "cell_type": "code",
   "execution_count": 91,
   "metadata": {},
   "outputs": [
    {
     "name": "stdout",
     "output_type": "stream",
     "text": [
      "Fetching posts and comments from 2024-09-20 00:00:00+00:00 to 2025-02-06 16:45:37+00:00\n",
      "Fetching posts and comments from subreddit: iPhone16Pro\n"
     ]
    },
    {
     "name": "stderr",
     "output_type": "stream",
     "text": [
      "/var/folders/lb/69kfl84s4gs1jvnfcnp4ky740000gn/T/ipykernel_2582/2153276230.py:34: DeprecationWarning: datetime.datetime.utcfromtimestamp() is deprecated and scheduled for removal in a future version. Use timezone-aware objects to represent datetimes in UTC: datetime.datetime.fromtimestamp(timestamp, datetime.UTC).\n",
      "  \"post_created_utc\": datetime.utcfromtimestamp(submission.created_utc).strftime('%Y-%m-%d %H:%M:%S'),\n",
      "/var/folders/lb/69kfl84s4gs1jvnfcnp4ky740000gn/T/ipykernel_2582/2153276230.py:37: DeprecationWarning: datetime.datetime.utcfromtimestamp() is deprecated and scheduled for removal in a future version. Use timezone-aware objects to represent datetimes in UTC: datetime.datetime.fromtimestamp(timestamp, datetime.UTC).\n",
      "  \"comment_created_utc\": datetime.utcfromtimestamp(comment.created_utc).strftime('%Y-%m-%d %H:%M:%S'),\n"
     ]
    },
    {
     "name": "stdout",
     "output_type": "stream",
     "text": [
      "Fetching posts and comments from subreddit: iPhone16ProMax\n",
      "     subreddit                            post_title  \\\n",
      "0  iPhone16Pro     Camera Button Slanted on Pro Max?   \n",
      "1  iPhone16Pro     Camera Button Slanted on Pro Max?   \n",
      "2  iPhone16Pro  16Pro so lag! Just want my 13P back!   \n",
      "3  iPhone16Pro  16Pro so lag! Just want my 13P back!   \n",
      "4  iPhone16Pro  16Pro so lag! Just want my 13P back!   \n",
      "\n",
      "                                            post_url     post_created_utc  \\\n",
      "0  https://www.reddit.com/r/iPhone16Pro/comments/...  2025-02-06 14:35:41   \n",
      "1  https://www.reddit.com/r/iPhone16Pro/comments/...  2025-02-06 14:35:41   \n",
      "2  https://www.reddit.com/r/iPhone16Pro/comments/...  2025-02-06 13:29:34   \n",
      "3  https://www.reddit.com/r/iPhone16Pro/comments/...  2025-02-06 13:29:34   \n",
      "4  https://www.reddit.com/r/iPhone16Pro/comments/...  2025-02-06 13:29:34   \n",
      "\n",
      "  comment_id                                       comment_body  \\\n",
      "0    mbb93hn  Should be flush and even. Definitely not how y...   \n",
      "1    mbbd9uq  Ask for a swap. You paid for it so definitely ...   \n",
      "2    mbafaic  sounds like a faulty phone. why didnt you retu...   \n",
      "3    mbagfy9  Just got the 16PM, upgraded from a 13P. \\nI do...   \n",
      "4    mbaghy9                                          Return it   \n",
      "\n",
      "   comment_created_utc  comment_net_votes  \n",
      "0  2025-02-06 16:09:49                  1  \n",
      "1  2025-02-06 16:29:13                  1  \n",
      "2  2025-02-06 13:35:52                  1  \n",
      "3  2025-02-06 13:42:37                  1  \n",
      "4  2025-02-06 13:42:56                  1  \n"
     ]
    }
   ],
   "source": [
    "import praw\n",
    "import pandas as pd\n",
    "from datetime import datetime, timezone\n",
    "from dotenv import load_dotenv\n",
    "import os\n",
    "import time\n",
    "\n",
    "# Load environment variables from .env file\n",
    "load_dotenv()\n",
    "\n",
    "# Initialize the Reddit API client\n",
    "reddit = praw.Reddit(\n",
    "    client_id=os.getenv(\"REDDIT_CLIENT_ID\"),\n",
    "    client_secret=os.getenv(\"REDDIT_CLIENT_SECRET\"),\n",
    "    user_agent=os.getenv(\"REDDIT_USER_AGENT\"),\n",
    ")\n",
    "\n",
    "# Function to fetch posts and their comments\n",
    "def fetch_reddit_data_with_comments(subreddit, keywords, start_date, end_date, post_limit=100, comment_limit=10):\n",
    "    all_data = []\n",
    "    try:\n",
    "        subreddit_obj = reddit.subreddit(subreddit)\n",
    "        for submission in subreddit_obj.new(limit=post_limit):  # Fetch 'new' posts\n",
    "            # Filter posts by timestamps\n",
    "            if start_date <= submission.created_utc <= end_date:\n",
    "                if any(keyword.lower() in submission.title.lower() or keyword.lower() in submission.selftext.lower() for keyword in keywords):\n",
    "                    submission.comments.replace_more(limit=None)  # Fetch all comments\n",
    "                    comments = submission.comments.list()[:comment_limit]  # Limit the number of comments\n",
    "                    for comment in comments:\n",
    "                        all_data.append({\n",
    "                            \"subreddit\": subreddit,\n",
    "                            \"post_title\": submission.title,\n",
    "                            \"post_url\": submission.url,\n",
    "                            \"post_created_utc\": datetime.utcfromtimestamp(submission.created_utc).strftime('%Y-%m-%d %H:%M:%S'),\n",
    "                            \"comment_id\": comment.id,\n",
    "                            \"comment_body\": comment.body,\n",
    "                            \"comment_created_utc\": datetime.utcfromtimestamp(comment.created_utc).strftime('%Y-%m-%d %H:%M:%S'),\n",
    "                            \"comment_net_votes\": comment.score,\n",
    "                        })\n",
    "            time.sleep(0.1)  # Add a short delay to avoid hitting rate limits\n",
    "    except Exception as e:\n",
    "        print(f\"Error fetching data from r/{subreddit}: {e}\")\n",
    "    \n",
    "    return all_data\n",
    "\n",
    "# Define the release date of iPhone 16 Pro\n",
    "release_date = datetime(2024, 9, 20, tzinfo=timezone.utc)  # September 20, 2024\n",
    "start_date = int(release_date.timestamp())  # Convert to UNIX timestamp\n",
    "end_date = int(datetime.now(timezone.utc).timestamp())  # Current timestamp\n",
    "\n",
    "# Debug: Print start and end dates\n",
    "print(f\"Fetching posts and comments from {datetime.fromtimestamp(start_date, tz=timezone.utc)} to {datetime.fromtimestamp(end_date, tz=timezone.utc)}\")\n",
    "\n",
    "# Define subreddits and keywords\n",
    "subreddits = [\"iPhone16Pro\", \"iPhone16ProMax\"]\n",
    "keywords = [\"camera\", \"battery\", \"design\", \"display\", \"performance\", \"durability\"]\n",
    "\n",
    "# Fetch data from multiple subreddits\n",
    "all_data = []\n",
    "for subreddit in subreddits:\n",
    "    print(f\"Fetching posts and comments from subreddit: {subreddit}\")\n",
    "    data = fetch_reddit_data_with_comments(subreddit, keywords, start_date, end_date, post_limit=100, comment_limit=10)\n",
    "    all_data.extend(data)\n",
    "\n",
    "# Convert to a DataFrame\n",
    "df_comments = pd.DataFrame(all_data)\n",
    "print(df_comments.head())  # Print the first few rows of the DataFrame\n"
   ]
  },
  {
   "cell_type": "code",
   "execution_count": 95,
   "metadata": {},
   "outputs": [
    {
     "name": "stdout",
     "output_type": "stream",
     "text": [
      "Data saved to 'reddit_comments.csv'\n"
     ]
    }
   ],
   "source": [
    "# Save to a CSV file\n",
    "df_comments.to_csv(\"reddit_comments.csv\", index=False)\n",
    "print(\"Data saved to 'reddit_comments.csv'\")"
   ]
  },
  {
   "cell_type": "code",
   "execution_count": 93,
   "metadata": {},
   "outputs": [
    {
     "name": "stdout",
     "output_type": "stream",
     "text": [
      "Number of rows pulled: 420\n"
     ]
    }
   ],
   "source": [
    "num_rows = len(df_comments)\n",
    "print(f\"Number of rows pulled: {num_rows}\")"
   ]
  },
  {
   "cell_type": "code",
   "execution_count": 97,
   "metadata": {},
   "outputs": [
    {
     "name": "stdout",
     "output_type": "stream",
     "text": [
      "Fetching posts from 2024-09-20 00:00:00+00:00 to 2025-02-06 19:45:15+00:00\n",
      "Fetching data from subreddit: iPhone16Pro\n"
     ]
    },
    {
     "name": "stderr",
     "output_type": "stream",
     "text": [
      "/var/folders/lb/69kfl84s4gs1jvnfcnp4ky740000gn/T/ipykernel_2582/4293807240.py:28: DeprecationWarning: datetime.datetime.utcfromtimestamp() is deprecated and scheduled for removal in a future version. Use timezone-aware objects to represent datetimes in UTC: datetime.datetime.fromtimestamp(timestamp, datetime.UTC).\n",
      "  post_date = datetime.utcfromtimestamp(submission.created_utc).strftime('%Y-%m-%d')\n",
      "/var/folders/lb/69kfl84s4gs1jvnfcnp4ky740000gn/T/ipykernel_2582/4293807240.py:33: DeprecationWarning: datetime.datetime.utcfromtimestamp() is deprecated and scheduled for removal in a future version. Use timezone-aware objects to represent datetimes in UTC: datetime.datetime.fromtimestamp(timestamp, datetime.UTC).\n",
      "  \"created_utc\": datetime.utcfromtimestamp(submission.created_utc).strftime('%Y-%m-%d %H:%M:%S'),\n"
     ]
    },
    {
     "name": "stdout",
     "output_type": "stream",
     "text": [
      "Fetching data from subreddit: iPhone16ProMax\n",
      "     subreddit                                   title  \\\n",
      "0  iPhone16Pro       Camera Button Slanted on Pro Max?   \n",
      "1  iPhone16Pro    16Pro so lag! Just want my 13P back!   \n",
      "2  iPhone16Pro                             Main camera   \n",
      "3  iPhone16Pro                     iPhone 16 Pro Issue   \n",
      "4  iPhone16Pro  Stock camera processes photos too much   \n",
      "\n",
      "                                            selftext          created_utc  \\\n",
      "0  Got a 16 Pro Max last Saturday and I just noti...  2025-02-06 14:35:41   \n",
      "1  My brand new 16Pro has been laggy/glitchy sinc...  2025-02-06 13:29:34   \n",
      "2                                                     2025-02-06 09:39:05   \n",
      "3  I’m not very happy with the drain on iPhone 16...  2025-02-06 08:05:01   \n",
      "4        1st is stock camera, 2nd is Halide Mark ii   2025-02-06 08:01:51   \n",
      "\n",
      "    post_date  net_votes  num_comments  \\\n",
      "0  2025-02-06          1             3   \n",
      "1  2025-02-06          0            11   \n",
      "2  2025-02-06          3             0   \n",
      "3  2025-02-06         17            47   \n",
      "4  2025-02-06          6             4   \n",
      "\n",
      "                                                 url  \n",
      "0  https://www.reddit.com/r/iPhone16Pro/comments/...  \n",
      "1  https://www.reddit.com/r/iPhone16Pro/comments/...  \n",
      "2               https://i.redd.it/ot2ghobfohhe1.jpeg  \n",
      "3  https://www.reddit.com/r/iPhone16Pro/comments/...  \n",
      "4             https://www.reddit.com/gallery/1iixk58  \n",
      "687\n"
     ]
    }
   ],
   "source": [
    "import praw\n",
    "import pandas as pd\n",
    "from datetime import datetime, timezone\n",
    "from dotenv import load_dotenv\n",
    "import os\n",
    "import time\n",
    "\n",
    "# Load environment variables from .env file\n",
    "load_dotenv()\n",
    "\n",
    "# Initialize the Reddit API client\n",
    "reddit = praw.Reddit(\n",
    "    client_id=os.getenv(\"REDDIT_CLIENT_ID\"),\n",
    "    client_secret=os.getenv(\"REDDIT_CLIENT_SECRET\"),\n",
    "    user_agent=os.getenv(\"REDDIT_USER_AGENT\"),\n",
    ")\n",
    "\n",
    "# Function to fetch posts manually filtered by timestamps\n",
    "def fetch_reddit_data(subreddit, keywords, start_date, end_date):\n",
    "    all_posts = []\n",
    "    try:\n",
    "        subreddit_obj = reddit.subreddit(subreddit)\n",
    "        # Use `None` to fetch all posts from the 'new' listing\n",
    "        for submission in subreddit_obj.new(limit=None):  # No limit on posts\n",
    "            # Filter posts manually by timestamps\n",
    "            if start_date <= submission.created_utc <= end_date:\n",
    "                if any(keyword.lower() in submission.title.lower() or keyword.lower() in submission.selftext.lower() for keyword in keywords):\n",
    "                    post_date = datetime.utcfromtimestamp(submission.created_utc).strftime('%Y-%m-%d')\n",
    "                    all_posts.append({\n",
    "                        \"subreddit\": subreddit,\n",
    "                        \"title\": submission.title,\n",
    "                        \"selftext\": submission.selftext,\n",
    "                        \"created_utc\": datetime.utcfromtimestamp(submission.created_utc).strftime('%Y-%m-%d %H:%M:%S'),\n",
    "                        \"post_date\": post_date,\n",
    "                        \"net_votes\": submission.score,\n",
    "                        \"num_comments\": submission.num_comments,\n",
    "                        \"url\": submission.url\n",
    "                    })\n",
    "            time.sleep(0.5)  # Add a short delay between each post to avoid hitting rate limits\n",
    "    except Exception as e:\n",
    "        print(f\"Error fetching data from r/{subreddit}: {e}\")\n",
    "    \n",
    "    return all_posts\n",
    "\n",
    "# Define the release date of iPhone 16 Pro\n",
    "release_date = datetime(2024, 9, 20, tzinfo=timezone.utc)  # September 20, 2024\n",
    "start_date = int(release_date.timestamp())  # Convert to UNIX timestamp\n",
    "end_date = int(datetime.now(timezone.utc).timestamp())  # Current timestamp\n",
    "\n",
    "# Debug: Print start and end dates\n",
    "print(f\"Fetching posts from {datetime.fromtimestamp(start_date, tz=timezone.utc)} to {datetime.fromtimestamp(end_date, tz=timezone.utc)}\")\n",
    "\n",
    "# Define subreddits and keywords\n",
    "subreddits = [\"iPhone16Pro\", \"iPhone16ProMax\"]\n",
    "keywords = [\"camera\", \"battery\", \"design\", \"display\", \"performance\", \"durability\"]\n",
    "\n",
    "# Fetch data from multiple subreddits\n",
    "all_posts = []\n",
    "for subreddit in subreddits:\n",
    "    print(f\"Fetching data from subreddit: {subreddit}\")\n",
    "    posts = fetch_reddit_data(subreddit, keywords, start_date, end_date)\n",
    "    all_posts.extend(posts)\n",
    "    time.sleep(2)  # Add a delay between fetching different subreddits to avoid rate limits\n",
    "\n",
    "# Convert to a DataFrame\n",
    "df = pd.DataFrame(all_posts)\n",
    "print(df.head())  # Print the first few rows of the DataFrame\n",
    "print(len(df))"
   ]
  },
  {
   "cell_type": "code",
   "execution_count": 101,
   "metadata": {},
   "outputs": [
    {
     "name": "stdout",
     "output_type": "stream",
     "text": [
      "Data saved to 'reddit_data_no_limit.csv'\n"
     ]
    }
   ],
   "source": [
    "# Save to a CSV file\n",
    "df.to_csv(\"reddit_data_no_limit.csv\", index=False)\n",
    "print(\"Data saved to 'reddit_data_no_limit.csv'\")"
   ]
  },
  {
   "cell_type": "code",
   "execution_count": 105,
   "metadata": {},
   "outputs": [
    {
     "name": "stdout",
     "output_type": "stream",
     "text": [
      "Fetching posts and comments from 2024-09-20 00:00:00+00:00 to 2025-02-06 20:32:03+00:00\n",
      "Fetching posts and comments from subreddit: iPhone16Pro\n"
     ]
    },
    {
     "name": "stderr",
     "output_type": "stream",
     "text": [
      "/var/folders/lb/69kfl84s4gs1jvnfcnp4ky740000gn/T/ipykernel_2582/1859655507.py:36: DeprecationWarning: datetime.datetime.utcfromtimestamp() is deprecated and scheduled for removal in a future version. Use timezone-aware objects to represent datetimes in UTC: datetime.datetime.fromtimestamp(timestamp, datetime.UTC).\n",
      "  \"post_created_utc\": datetime.utcfromtimestamp(submission.created_utc).strftime('%Y-%m-%d %H:%M:%S'),\n",
      "/var/folders/lb/69kfl84s4gs1jvnfcnp4ky740000gn/T/ipykernel_2582/1859655507.py:39: DeprecationWarning: datetime.datetime.utcfromtimestamp() is deprecated and scheduled for removal in a future version. Use timezone-aware objects to represent datetimes in UTC: datetime.datetime.fromtimestamp(timestamp, datetime.UTC).\n",
      "  \"comment_created_utc\": datetime.utcfromtimestamp(comment.created_utc).strftime('%Y-%m-%d %H:%M:%S'),\n"
     ]
    },
    {
     "name": "stdout",
     "output_type": "stream",
     "text": [
      "Fetching posts and comments from subreddit: iPhone16ProMax\n",
      "     subreddit                            post_title  \\\n",
      "0  iPhone16Pro     Camera Button Slanted on Pro Max?   \n",
      "1  iPhone16Pro     Camera Button Slanted on Pro Max?   \n",
      "2  iPhone16Pro     Camera Button Slanted on Pro Max?   \n",
      "3  iPhone16Pro  16Pro so lag! Just want my 13P back!   \n",
      "4  iPhone16Pro  16Pro so lag! Just want my 13P back!   \n",
      "\n",
      "                                            post_url     post_created_utc  \\\n",
      "0  https://www.reddit.com/r/iPhone16Pro/comments/...  2025-02-06 14:35:41   \n",
      "1  https://www.reddit.com/r/iPhone16Pro/comments/...  2025-02-06 14:35:41   \n",
      "2  https://www.reddit.com/r/iPhone16Pro/comments/...  2025-02-06 14:35:41   \n",
      "3  https://www.reddit.com/r/iPhone16Pro/comments/...  2025-02-06 13:29:34   \n",
      "4  https://www.reddit.com/r/iPhone16Pro/comments/...  2025-02-06 13:29:34   \n",
      "\n",
      "  comment_id                                       comment_body  \\\n",
      "0    mbb93hn  Should be flush and even. Definitely not how y...   \n",
      "1    mbbd9uq  Ask for a swap. You paid for it so definitely ...   \n",
      "2    mbci26p  I've been to an appliance store in my city and...   \n",
      "3    mbafaic  sounds like a faulty phone. why didnt you retu...   \n",
      "4    mbagfy9  Just got the 16PM, upgraded from a 13P. \\nI do...   \n",
      "\n",
      "   comment_created_utc  comment_net_votes  \n",
      "0  2025-02-06 16:09:49                  1  \n",
      "1  2025-02-06 16:29:13                  1  \n",
      "2  2025-02-06 19:36:19                  1  \n",
      "3  2025-02-06 13:35:52                  1  \n",
      "4  2025-02-06 13:42:37                  1  \n",
      "4147\n"
     ]
    }
   ],
   "source": [
    "import praw\n",
    "import pandas as pd\n",
    "from datetime import datetime, timezone\n",
    "from dotenv import load_dotenv\n",
    "import os\n",
    "import time\n",
    "\n",
    "# Load environment variables from .env file\n",
    "load_dotenv()\n",
    "\n",
    "# Initialize the Reddit API client\n",
    "reddit = praw.Reddit(\n",
    "    client_id=os.getenv(\"REDDIT_CLIENT_ID\"),\n",
    "    client_secret=os.getenv(\"REDDIT_CLIENT_SECRET\"),\n",
    "    user_agent=os.getenv(\"REDDIT_USER_AGENT\"),\n",
    ")\n",
    "\n",
    "# Function to fetch posts and their comments\n",
    "def fetch_reddit_data_with_comments(subreddit, keywords, start_date, end_date, comment_limit=10):\n",
    "    all_data = []\n",
    "    try:\n",
    "        subreddit_obj = reddit.subreddit(subreddit)\n",
    "        # Fetch all available posts from the 'new' listing\n",
    "        for submission in subreddit_obj.new(limit=None):  # No limit on posts\n",
    "            # Filter posts manually by timestamps\n",
    "            if start_date <= submission.created_utc <= end_date:\n",
    "                if any(keyword.lower() in submission.title.lower() or keyword.lower() in submission.selftext.lower() for keyword in keywords):\n",
    "                    try:\n",
    "                        submission.comments.replace_more(limit=None)  # Fetch all comments\n",
    "                        comments = submission.comments.list()[:comment_limit]  # Limit the number of comments\n",
    "                        for comment in comments:\n",
    "                            all_data.append({\n",
    "                                \"subreddit\": subreddit,\n",
    "                                \"post_title\": submission.title,\n",
    "                                \"post_url\": submission.url,\n",
    "                                \"post_created_utc\": datetime.utcfromtimestamp(submission.created_utc).strftime('%Y-%m-%d %H:%M:%S'),\n",
    "                                \"comment_id\": comment.id,\n",
    "                                \"comment_body\": comment.body,\n",
    "                                \"comment_created_utc\": datetime.utcfromtimestamp(comment.created_utc).strftime('%Y-%m-%d %H:%M:%S'),\n",
    "                                \"comment_net_votes\": comment.score,\n",
    "                            })\n",
    "                    except Exception as e:\n",
    "                        print(f\"Error fetching comments from post '{submission.title}': {e}\")\n",
    "            time.sleep(0.5)  # Add a short delay between processing posts\n",
    "    except Exception as e:\n",
    "        print(f\"Error fetching data from r/{subreddit}: {e}\")\n",
    "    \n",
    "    return all_data\n",
    "\n",
    "# Define the release date of iPhone 16 Pro\n",
    "release_date = datetime(2024, 9, 20, tzinfo=timezone.utc)  # September 20, 2024\n",
    "start_date = int(release_date.timestamp())  # Convert to UNIX timestamp\n",
    "end_date = int(datetime.now(timezone.utc).timestamp())  # Current timestamp\n",
    "\n",
    "# Debug: Print start and end dates\n",
    "print(f\"Fetching posts and comments from {datetime.fromtimestamp(start_date, tz=timezone.utc)} to {datetime.fromtimestamp(end_date, tz=timezone.utc)}\")\n",
    "\n",
    "# Define subreddits and keywords\n",
    "subreddits = [\"iPhone16Pro\", \"iPhone16ProMax\"]\n",
    "keywords = [\"camera\", \"battery\", \"design\", \"display\", \"performance\", \"durability\"]\n",
    "\n",
    "# Fetch data from multiple subreddits\n",
    "all_data = []\n",
    "for subreddit in subreddits:\n",
    "    print(f\"Fetching posts and comments from subreddit: {subreddit}\")\n",
    "    data = fetch_reddit_data_with_comments(subreddit, keywords, start_date, end_date, comment_limit=10)\n",
    "    all_data.extend(data)\n",
    "    time.sleep(2)  # Add a delay between fetching data from different subreddits to avoid API rate limits\n",
    "\n",
    "# Convert to a DataFrame\n",
    "df_comments = pd.DataFrame(all_data)\n",
    "print(df_comments.head())  # Print the first few rows of the DataFrame\n",
    "print(len(df_comments))"
   ]
  },
  {
   "cell_type": "code",
   "execution_count": 107,
   "metadata": {},
   "outputs": [
    {
     "name": "stdout",
     "output_type": "stream",
     "text": [
      "Data saved to 'reddit_comments_no_post_limit.csv'\n"
     ]
    }
   ],
   "source": [
    "# Save to a CSV file\n",
    "df_comments.to_csv(\"reddit_comments_no_post_limit.csv\", index=False)\n",
    "print(\"Data saved to 'reddit_comments_no_post_limit.csv'\")"
   ]
  },
  {
   "cell_type": "code",
   "execution_count": null,
   "metadata": {},
   "outputs": [],
   "source": []
  }
 ],
 "metadata": {
  "kernelspec": {
   "display_name": "Python 3 (ipykernel)",
   "language": "python",
   "name": "python3"
  },
  "language_info": {
   "codemirror_mode": {
    "name": "ipython",
    "version": 3
   },
   "file_extension": ".py",
   "mimetype": "text/x-python",
   "name": "python",
   "nbconvert_exporter": "python",
   "pygments_lexer": "ipython3",
   "version": "3.12.4"
  }
 },
 "nbformat": 4,
 "nbformat_minor": 4
}
