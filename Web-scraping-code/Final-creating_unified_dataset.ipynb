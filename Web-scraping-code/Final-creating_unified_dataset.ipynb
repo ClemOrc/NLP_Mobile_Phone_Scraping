{
 "cells": [
  {
   "cell_type": "code",
   "execution_count": 48,
   "metadata": {},
   "outputs": [],
   "source": [
    "import pandas as pd\n",
    "import glob\n",
    "import os"
   ]
  },
  {
   "cell_type": "markdown",
   "metadata": {},
   "source": [
    "## Google pixel"
   ]
  },
  {
   "cell_type": "code",
   "execution_count": 51,
   "metadata": {},
   "outputs": [
    {
     "data": {
      "text/html": [
       "<div>\n",
       "<style scoped>\n",
       "    .dataframe tbody tr th:only-of-type {\n",
       "        vertical-align: middle;\n",
       "    }\n",
       "\n",
       "    .dataframe tbody tr th {\n",
       "        vertical-align: top;\n",
       "    }\n",
       "\n",
       "    .dataframe thead th {\n",
       "        text-align: right;\n",
       "    }\n",
       "</style>\n",
       "<table border=\"1\" class=\"dataframe\">\n",
       "  <thead>\n",
       "    <tr style=\"text-align: right;\">\n",
       "      <th></th>\n",
       "      <th>Post ID</th>\n",
       "      <th>Product Brand</th>\n",
       "      <th>Text</th>\n",
       "    </tr>\n",
       "  </thead>\n",
       "  <tbody>\n",
       "    <tr>\n",
       "      <th>0</th>\n",
       "      <td>0</td>\n",
       "      <td>Google Pixel</td>\n",
       "      <td>As someone who previously owned an Apple flags...</td>\n",
       "    </tr>\n",
       "    <tr>\n",
       "      <th>1</th>\n",
       "      <td>1</td>\n",
       "      <td>Google Pixel</td>\n",
       "      <td>Téléphone portable pixels 9 pro très satisfait...</td>\n",
       "    </tr>\n",
       "    <tr>\n",
       "      <th>2</th>\n",
       "      <td>2</td>\n",
       "      <td>Google Pixel</td>\n",
       "      <td>Good phone, but it does not have the best batt...</td>\n",
       "    </tr>\n",
       "    <tr>\n",
       "      <th>3</th>\n",
       "      <td>3</td>\n",
       "      <td>Google Pixel</td>\n",
       "      <td>Hello Buyer,\\n\\nI recently purchased the Pixel...</td>\n",
       "    </tr>\n",
       "    <tr>\n",
       "      <th>4</th>\n",
       "      <td>4</td>\n",
       "      <td>Google Pixel</td>\n",
       "      <td>Okay, so my old phone was 6 years old and it s...</td>\n",
       "    </tr>\n",
       "  </tbody>\n",
       "</table>\n",
       "</div>"
      ],
      "text/plain": [
       "   Post ID Product Brand                                               Text\n",
       "0        0  Google Pixel  As someone who previously owned an Apple flags...\n",
       "1        1  Google Pixel  Téléphone portable pixels 9 pro très satisfait...\n",
       "2        2  Google Pixel  Good phone, but it does not have the best batt...\n",
       "3        3  Google Pixel  Hello Buyer,\\n\\nI recently purchased the Pixel...\n",
       "4        4  Google Pixel  Okay, so my old phone was 6 years old and it s..."
      ]
     },
     "execution_count": 51,
     "metadata": {},
     "output_type": "execute_result"
    }
   ],
   "source": [
    "# specify the folder path and pattern\n",
    "folder_path = r'C:\\Users\\hp\\Documents\\GitHub\\LLM-Enhanced-Text-Classification\\Mobile_Raw_Data\\Google'\n",
    "file_pattern = 'amazon*'\n",
    "\n",
    "# get the list of all files matching the pattern\n",
    "file_list = glob.glob(f'{folder_path}\\\\{file_pattern}')\n",
    "\n",
    "# read all files into a list of dataframes\n",
    "dataframes = [pd.read_csv(file) for file in file_list]\n",
    "\n",
    "# concatenate all dataframes in the list into a single dataframe\n",
    "df_combined = pd.concat(dataframes, ignore_index=True)\n",
    "\n",
    "df_combined['Product Brand'] = 'Google Pixel'\n",
    "\n",
    "df_combined_pixel = df_combined[['Product Brand', 'Review Body']]\n",
    "df_combined_pixel = df_combined_pixel.reset_index()\n",
    "df_combined_pixel.rename(columns = {'index':'Post ID', 'Review Body':'Text'}, inplace = True)\n",
    "df_combined_pixel.head()"
   ]
  },
  {
   "cell_type": "code",
   "execution_count": 87,
   "metadata": {},
   "outputs": [
    {
     "data": {
      "text/html": [
       "<div>\n",
       "<style scoped>\n",
       "    .dataframe tbody tr th:only-of-type {\n",
       "        vertical-align: middle;\n",
       "    }\n",
       "\n",
       "    .dataframe tbody tr th {\n",
       "        vertical-align: top;\n",
       "    }\n",
       "\n",
       "    .dataframe thead th {\n",
       "        text-align: right;\n",
       "    }\n",
       "</style>\n",
       "<table border=\"1\" class=\"dataframe\">\n",
       "  <thead>\n",
       "    <tr style=\"text-align: right;\">\n",
       "      <th></th>\n",
       "      <th>Post ID</th>\n",
       "      <th>Text</th>\n",
       "      <th>Product Brand</th>\n",
       "    </tr>\n",
       "  </thead>\n",
       "  <tbody>\n",
       "    <tr>\n",
       "      <th>0</th>\n",
       "      <td>0</td>\n",
       "      <td>Upgraded from Pixel 4A to Pixel 9. Fantastic u...</td>\n",
       "      <td>Google Pixel</td>\n",
       "    </tr>\n",
       "    <tr>\n",
       "      <th>1</th>\n",
       "      <td>1</td>\n",
       "      <td>Overall experience superb..</td>\n",
       "      <td>Google Pixel</td>\n",
       "    </tr>\n",
       "    <tr>\n",
       "      <th>2</th>\n",
       "      <td>2</td>\n",
       "      <td>Camera with this phone just kills my iphone 14...</td>\n",
       "      <td>Google Pixel</td>\n",
       "    </tr>\n",
       "    <tr>\n",
       "      <th>3</th>\n",
       "      <td>3</td>\n",
       "      <td>Upgraded from my pixel 6a and honestly much be...</td>\n",
       "      <td>Google Pixel</td>\n",
       "    </tr>\n",
       "    <tr>\n",
       "      <th>4</th>\n",
       "      <td>4</td>\n",
       "      <td>Outstanding 🥰 loved it</td>\n",
       "      <td>Google Pixel</td>\n",
       "    </tr>\n",
       "  </tbody>\n",
       "</table>\n",
       "</div>"
      ],
      "text/plain": [
       "   Post ID                                               Text Product Brand\n",
       "0        0  Upgraded from Pixel 4A to Pixel 9. Fantastic u...  Google Pixel\n",
       "1        1                        Overall experience superb..  Google Pixel\n",
       "2        2  Camera with this phone just kills my iphone 14...  Google Pixel\n",
       "3        3  Upgraded from my pixel 6a and honestly much be...  Google Pixel\n",
       "4        4                             Outstanding 🥰 loved it  Google Pixel"
      ]
     },
     "execution_count": 87,
     "metadata": {},
     "output_type": "execute_result"
    }
   ],
   "source": [
    "df_flipkart = pd.read_csv(r\"C:\\Users\\hp\\Documents\\GitHub\\LLM-Enhanced-Text-Classification\\Mobile_Raw_Data\\Google\\flipkart_reviews_all_pages.csv\",usecols = ['Review'])\n",
    "df_flipkart['Product Brand'] = 'Google Pixel'\n",
    "df_flipkart = df_flipkart.reset_index()\n",
    "df_flipkart.rename(columns = {'index':'Post ID', 'Review':'Text'}, inplace = True)\n",
    "df_flipkart.head()"
   ]
  },
  {
   "cell_type": "code",
   "execution_count": null,
   "metadata": {},
   "outputs": [],
   "source": [
    "df_1 = pd.read_csv(r\"C:\\Users\\hp\\Documents\\GitHub\\LLM-Enhanced-Text-Classification\\Scraped_files\\reddit_posts_pixel_9_pro.csv\",usecols=['selftext'])\n",
    "df_2 = pd.read_csv(r\"C:\\Users\\hp\\Documents\\GitHub\\LLM-Enhanced-Text-Classification\\Scraped_files\\reddit_posts_expanded_comments.csv\",usecols=['comment_text']).dropna()\n",
    "df_1.rename(columns = {'selftext':'Text'}, inplace = True)\n",
    "df_2.rename(columns = {'comment_text':'Text'}, inplace = True)\n",
    "df_combined_reddit = pd.concat([df_1,df_2],ignore_index=True)\n",
    "df_combined_reddit['Product Brand'] = 'Google Pixel'"
   ]
  },
  {
   "cell_type": "markdown",
   "metadata": {},
   "source": [
    "### Combining data from all sources - pixel"
   ]
  },
  {
   "cell_type": "code",
   "execution_count": null,
   "metadata": {},
   "outputs": [],
   "source": [
    "df_combined_pixel_final =  pd.concat([df_combined_pixel[['Text','Product Brand']],df_flipkart[['Text','Product Brand']],df_combined_reddit[['Text','Product Brand']]],ignore_index=True)\n",
    "df_combined_pixel_final = df_combined_pixel_final.reset_index()\n",
    "df_combined_pixel_final.rename(columns = {'index':'Post ID'}, inplace = True)"
   ]
  },
  {
   "cell_type": "code",
   "execution_count": 100,
   "metadata": {},
   "outputs": [
    {
     "data": {
      "text/html": [
       "<div>\n",
       "<style scoped>\n",
       "    .dataframe tbody tr th:only-of-type {\n",
       "        vertical-align: middle;\n",
       "    }\n",
       "\n",
       "    .dataframe tbody tr th {\n",
       "        vertical-align: top;\n",
       "    }\n",
       "\n",
       "    .dataframe thead th {\n",
       "        text-align: right;\n",
       "    }\n",
       "</style>\n",
       "<table border=\"1\" class=\"dataframe\">\n",
       "  <thead>\n",
       "    <tr style=\"text-align: right;\">\n",
       "      <th></th>\n",
       "      <th>Post ID</th>\n",
       "      <th>Text</th>\n",
       "      <th>Product Brand</th>\n",
       "    </tr>\n",
       "  </thead>\n",
       "  <tbody>\n",
       "    <tr>\n",
       "      <th>0</th>\n",
       "      <td>0</td>\n",
       "      <td>As someone who previously owned an Apple flags...</td>\n",
       "      <td>Google Pixel</td>\n",
       "    </tr>\n",
       "    <tr>\n",
       "      <th>1</th>\n",
       "      <td>1</td>\n",
       "      <td>Téléphone portable pixels 9 pro très satisfait...</td>\n",
       "      <td>Google Pixel</td>\n",
       "    </tr>\n",
       "    <tr>\n",
       "      <th>2</th>\n",
       "      <td>2</td>\n",
       "      <td>Good phone, but it does not have the best batt...</td>\n",
       "      <td>Google Pixel</td>\n",
       "    </tr>\n",
       "    <tr>\n",
       "      <th>3</th>\n",
       "      <td>3</td>\n",
       "      <td>Hello Buyer,\\n\\nI recently purchased the Pixel...</td>\n",
       "      <td>Google Pixel</td>\n",
       "    </tr>\n",
       "    <tr>\n",
       "      <th>4</th>\n",
       "      <td>4</td>\n",
       "      <td>Okay, so my old phone was 6 years old and it s...</td>\n",
       "      <td>Google Pixel</td>\n",
       "    </tr>\n",
       "  </tbody>\n",
       "</table>\n",
       "</div>"
      ],
      "text/plain": [
       "   Post ID                                               Text Product Brand\n",
       "0        0  As someone who previously owned an Apple flags...  Google Pixel\n",
       "1        1  Téléphone portable pixels 9 pro très satisfait...  Google Pixel\n",
       "2        2  Good phone, but it does not have the best batt...  Google Pixel\n",
       "3        3  Hello Buyer,\\n\\nI recently purchased the Pixel...  Google Pixel\n",
       "4        4  Okay, so my old phone was 6 years old and it s...  Google Pixel"
      ]
     },
     "execution_count": 100,
     "metadata": {},
     "output_type": "execute_result"
    }
   ],
   "source": [
    "df_combined_pixel_final.head()"
   ]
  },
  {
   "cell_type": "markdown",
   "metadata": {},
   "source": [
    "## iphone"
   ]
  },
  {
   "cell_type": "code",
   "execution_count": 42,
   "metadata": {},
   "outputs": [
    {
     "data": {
      "text/html": [
       "<div>\n",
       "<style scoped>\n",
       "    .dataframe tbody tr th:only-of-type {\n",
       "        vertical-align: middle;\n",
       "    }\n",
       "\n",
       "    .dataframe tbody tr th {\n",
       "        vertical-align: top;\n",
       "    }\n",
       "\n",
       "    .dataframe thead th {\n",
       "        text-align: right;\n",
       "    }\n",
       "</style>\n",
       "<table border=\"1\" class=\"dataframe\">\n",
       "  <thead>\n",
       "    <tr style=\"text-align: right;\">\n",
       "      <th></th>\n",
       "      <th>Post ID</th>\n",
       "      <th>Text</th>\n",
       "      <th>Product Brand</th>\n",
       "    </tr>\n",
       "  </thead>\n",
       "  <tbody>\n",
       "    <tr>\n",
       "      <th>0</th>\n",
       "      <td>mbb93hn</td>\n",
       "      <td>Should be flush and even. Definitely not how y...</td>\n",
       "      <td>iPhone</td>\n",
       "    </tr>\n",
       "    <tr>\n",
       "      <th>1</th>\n",
       "      <td>mbbd9uq</td>\n",
       "      <td>Ask for a swap. You paid for it so definitely ...</td>\n",
       "      <td>iPhone</td>\n",
       "    </tr>\n",
       "    <tr>\n",
       "      <th>2</th>\n",
       "      <td>mbci26p</td>\n",
       "      <td>I've been to an appliance store in my city and...</td>\n",
       "      <td>iPhone</td>\n",
       "    </tr>\n",
       "    <tr>\n",
       "      <th>3</th>\n",
       "      <td>mbafaic</td>\n",
       "      <td>sounds like a faulty phone. why didnt you retu...</td>\n",
       "      <td>iPhone</td>\n",
       "    </tr>\n",
       "    <tr>\n",
       "      <th>4</th>\n",
       "      <td>mbagfy9</td>\n",
       "      <td>Just got the 16PM, upgraded from a 13P. \\nI do...</td>\n",
       "      <td>iPhone</td>\n",
       "    </tr>\n",
       "  </tbody>\n",
       "</table>\n",
       "</div>"
      ],
      "text/plain": [
       "   Post ID                                               Text Product Brand\n",
       "0  mbb93hn  Should be flush and even. Definitely not how y...        iPhone\n",
       "1  mbbd9uq  Ask for a swap. You paid for it so definitely ...        iPhone\n",
       "2  mbci26p  I've been to an appliance store in my city and...        iPhone\n",
       "3  mbafaic  sounds like a faulty phone. why didnt you retu...        iPhone\n",
       "4  mbagfy9  Just got the 16PM, upgraded from a 13P. \\nI do...        iPhone"
      ]
     },
     "execution_count": 42,
     "metadata": {},
     "output_type": "execute_result"
    }
   ],
   "source": [
    "# specify the new folder path and pattern\n",
    "folder_path_iphone = r'C:\\Users\\hp\\Documents\\GitHub\\LLM-Enhanced-Text-Classification\\Mobile_Raw_Data\\iphone'\n",
    "file_pattern_iphone = 'reddit*'\n",
    "\n",
    "# get the list of all files matching the pattern in the new folder\n",
    "file_list_iphone = glob.glob(f'{folder_path_iphone}\\\\{file_pattern_iphone}')\n",
    "\n",
    "\n",
    "# read all files into a list of dataframes with only the specified columns\n",
    "# specify the columns to read\n",
    "columns_to_read = ['comment_id', 'comment_body']\n",
    "df_1 = pd.read_csv(file_list_iphone[0], usecols=columns_to_read)\n",
    "df_1.rename(columns={'comment_id':'Post ID', 'comment_body':'Text'}, inplace=True)\n",
    "columns_to_read = ['selftext']\n",
    "df_2 = pd.read_csv(file_list_iphone[1], usecols=columns_to_read)\n",
    "df_2 = df_2.reset_index()\n",
    "df_2.rename(columns={'index':'Post ID', 'selftext':'Text'}, inplace=True)\n",
    "# concatenate all dataframes in the list into a single dataframe\n",
    "df_combined_iphone = pd.concat([df_1, df_2])\n",
    "df_combined_iphone['Product Brand'] = 'iPhone'\n",
    "df_combined_iphone.head()"
   ]
  },
  {
   "cell_type": "code",
   "execution_count": 53,
   "metadata": {},
   "outputs": [
    {
     "data": {
      "text/plain": [
       "(4834, 3)"
      ]
     },
     "execution_count": 53,
     "metadata": {},
     "output_type": "execute_result"
    }
   ],
   "source": [
    "df_combined_iphone.shape"
   ]
  },
  {
   "cell_type": "markdown",
   "metadata": {},
   "source": [
    "### Oppo"
   ]
  },
  {
   "cell_type": "code",
   "execution_count": null,
   "metadata": {},
   "outputs": [],
   "source": [
    "# specify the new folder path and pattern\n",
    "folder_path_oppo = r'C:\\Users\\hp\\Documents\\GitHub\\LLM-Enhanced-Text-Classification\\Mobile_Raw_Data\\Oppo find x8 pro'\n",
    "file_pattern_oppo = 'reddit*'\n",
    "\n",
    "# get the list of all files matching the pattern in the new folder\n",
    "file_list_oppo = glob.glob(f'{folder_path_oppo}\\\\{file_pattern_oppo}')\n",
    "\n",
    "# specify the columns to read\n",
    "columns_to_read = ['Post ID', 'Text']\n",
    "\n",
    "# read all files into a list of dataframes with only the specified columns\n",
    "dataframes_oppo_filtered = [pd.read_csv(file, usecols=columns_to_read) for file in file_list_oppo]\n",
    "\n",
    "# concatenate all filtered dataframes in the list into a single dataframe\n",
    "df_combined_oppo_filtered = pd.concat(dataframes_oppo_filtered, ignore_index=True)\n",
    "\n",
    "df_combined_oppo_filtered['Product Brand'] = 'Oppo Find X3 Pro'\n",
    "df_combined_oppo_filtered.head()"
   ]
  },
  {
   "cell_type": "code",
   "execution_count": 54,
   "metadata": {},
   "outputs": [
    {
     "data": {
      "text/plain": [
       "(1700, 3)"
      ]
     },
     "execution_count": 54,
     "metadata": {},
     "output_type": "execute_result"
    }
   ],
   "source": [
    "df_combined_oppo_filtered.shape"
   ]
  },
  {
   "cell_type": "markdown",
   "metadata": {},
   "source": [
    "## Samsung S24 Ultra"
   ]
  },
  {
   "cell_type": "code",
   "execution_count": 77,
   "metadata": {},
   "outputs": [
    {
     "data": {
      "text/html": [
       "<div>\n",
       "<style scoped>\n",
       "    .dataframe tbody tr th:only-of-type {\n",
       "        vertical-align: middle;\n",
       "    }\n",
       "\n",
       "    .dataframe tbody tr th {\n",
       "        vertical-align: top;\n",
       "    }\n",
       "\n",
       "    .dataframe thead th {\n",
       "        text-align: right;\n",
       "    }\n",
       "</style>\n",
       "<table border=\"1\" class=\"dataframe\">\n",
       "  <thead>\n",
       "    <tr style=\"text-align: right;\">\n",
       "      <th></th>\n",
       "      <th>Post ID</th>\n",
       "      <th>Text</th>\n",
       "      <th>Product Brand</th>\n",
       "    </tr>\n",
       "  </thead>\n",
       "  <tbody>\n",
       "    <tr>\n",
       "      <th>0</th>\n",
       "      <td>0</td>\n",
       "      <td>Thank you for your submission! As a reminder, ...</td>\n",
       "      <td>Samsung S24 Ultra</td>\n",
       "    </tr>\n",
       "    <tr>\n",
       "      <th>1</th>\n",
       "      <td>1</td>\n",
       "      <td>14-1/2 hours off the charger on LTE/5G and 3-1...</td>\n",
       "      <td>Samsung S24 Ultra</td>\n",
       "    </tr>\n",
       "    <tr>\n",
       "      <th>2</th>\n",
       "      <td>2</td>\n",
       "      <td>Thank you for your submission! As a reminder, ...</td>\n",
       "      <td>Samsung S24 Ultra</td>\n",
       "    </tr>\n",
       "    <tr>\n",
       "      <th>3</th>\n",
       "      <td>3</td>\n",
       "      <td>It drains battery on any phone. Check if you h...</td>\n",
       "      <td>Samsung S24 Ultra</td>\n",
       "    </tr>\n",
       "    <tr>\n",
       "      <th>4</th>\n",
       "      <td>4</td>\n",
       "      <td>My battery isn't that good as well. I thought ...</td>\n",
       "      <td>Samsung S24 Ultra</td>\n",
       "    </tr>\n",
       "  </tbody>\n",
       "</table>\n",
       "</div>"
      ],
      "text/plain": [
       "   Post ID                                               Text  \\\n",
       "0        0  Thank you for your submission! As a reminder, ...   \n",
       "1        1  14-1/2 hours off the charger on LTE/5G and 3-1...   \n",
       "2        2  Thank you for your submission! As a reminder, ...   \n",
       "3        3  It drains battery on any phone. Check if you h...   \n",
       "4        4  My battery isn't that good as well. I thought ...   \n",
       "\n",
       "       Product Brand  \n",
       "0  Samsung S24 Ultra  \n",
       "1  Samsung S24 Ultra  \n",
       "2  Samsung S24 Ultra  \n",
       "3  Samsung S24 Ultra  \n",
       "4  Samsung S24 Ultra  "
      ]
     },
     "execution_count": 77,
     "metadata": {},
     "output_type": "execute_result"
    }
   ],
   "source": [
    "# specify the new folder path and pattern\n",
    "folder_path_samsung = r'C:\\Users\\hp\\Documents\\GitHub\\LLM-Enhanced-Text-Classification\\Mobile_Raw_Data\\Samsung_S24Ultra'\n",
    "file_pattern_samsung = 'Samsung*'\n",
    "\n",
    "# get the list of all files matching the pattern in the new folder\n",
    "file_list_samsung = glob.glob(f'{folder_path_samsung}\\\\{file_pattern_samsung}')\n",
    "\n",
    "df_1 = pd.read_csv(file_list_samsung[0],usecols=['Comment Body'])\n",
    "df_1 = df_1.reset_index()\n",
    "df_1['Product Brand'] = 'Samsung S24 Ultra'\n",
    "df_1.rename(columns={'index':'Post ID','Comment Body':'Text'}, inplace=True)\n",
    "df_2 = pd.read_csv(file_list_samsung[1],usecols=['Comment Body'])\n",
    "df_2 = df_2.reset_index()\n",
    "df_2['Product Brand'] = 'Samsung S24 Ultra'\n",
    "df_2.rename(columns={'index':'Post ID','Comment Body':'Text'}, inplace=True)\n",
    "\n",
    "# Concatenate all dataframes in the list into a single dataframe\n",
    "df_combined_samsung_filtered = pd.concat([df_1, df_2])\n",
    "df_combined_samsung_filtered.head()"
   ]
  },
  {
   "cell_type": "code",
   "execution_count": 78,
   "metadata": {},
   "outputs": [
    {
     "data": {
      "text/plain": [
       "(1937, 3)"
      ]
     },
     "execution_count": 78,
     "metadata": {},
     "output_type": "execute_result"
    }
   ],
   "source": [
    "df_combined_samsung_filtered.shape"
   ]
  },
  {
   "cell_type": "markdown",
   "metadata": {},
   "source": [
    "## Xiaomi"
   ]
  },
  {
   "cell_type": "code",
   "execution_count": 102,
   "metadata": {},
   "outputs": [
    {
     "data": {
      "text/html": [
       "<div>\n",
       "<style scoped>\n",
       "    .dataframe tbody tr th:only-of-type {\n",
       "        vertical-align: middle;\n",
       "    }\n",
       "\n",
       "    .dataframe tbody tr th {\n",
       "        vertical-align: top;\n",
       "    }\n",
       "\n",
       "    .dataframe thead th {\n",
       "        text-align: right;\n",
       "    }\n",
       "</style>\n",
       "<table border=\"1\" class=\"dataframe\">\n",
       "  <thead>\n",
       "    <tr style=\"text-align: right;\">\n",
       "      <th></th>\n",
       "      <th>Post ID</th>\n",
       "      <th>Text</th>\n",
       "      <th>Product Brand</th>\n",
       "    </tr>\n",
       "  </thead>\n",
       "  <tbody>\n",
       "    <tr>\n",
       "      <th>0</th>\n",
       "      <td>0</td>\n",
       "      <td>Yeah... I may be weird but I honestly don't li...</td>\n",
       "      <td>Xiaomi 14 Ultra</td>\n",
       "    </tr>\n",
       "    <tr>\n",
       "      <th>1</th>\n",
       "      <td>1</td>\n",
       "      <td>A background.\\nDie-hard Android enthusiast, si...</td>\n",
       "      <td>Xiaomi 14 Ultra</td>\n",
       "    </tr>\n",
       "    <tr>\n",
       "      <th>2</th>\n",
       "      <td>2</td>\n",
       "      <td>Bad news I had the 14 Ultra I got it when it 1...</td>\n",
       "      <td>Xiaomi 14 Ultra</td>\n",
       "    </tr>\n",
       "    <tr>\n",
       "      <th>3</th>\n",
       "      <td>3</td>\n",
       "      <td>I have never owned a Xiaomi product in my life...</td>\n",
       "      <td>Xiaomi 14 Ultra</td>\n",
       "    </tr>\n",
       "    <tr>\n",
       "      <th>4</th>\n",
       "      <td>4</td>\n",
       "      <td>I absolutely love what Xiaomi has done with th...</td>\n",
       "      <td>Xiaomi 14 Ultra</td>\n",
       "    </tr>\n",
       "  </tbody>\n",
       "</table>\n",
       "</div>"
      ],
      "text/plain": [
       "   Post ID                                               Text    Product Brand\n",
       "0        0  Yeah... I may be weird but I honestly don't li...  Xiaomi 14 Ultra\n",
       "1        1  A background.\\nDie-hard Android enthusiast, si...  Xiaomi 14 Ultra\n",
       "2        2  Bad news I had the 14 Ultra I got it when it 1...  Xiaomi 14 Ultra\n",
       "3        3  I have never owned a Xiaomi product in my life...  Xiaomi 14 Ultra\n",
       "4        4  I absolutely love what Xiaomi has done with th...  Xiaomi 14 Ultra"
      ]
     },
     "execution_count": 102,
     "metadata": {},
     "output_type": "execute_result"
    }
   ],
   "source": [
    "df_combined_xiaomi = pd.read_csv(r\"C:\\Users\\hp\\Documents\\GitHub\\LLM-Enhanced-Text-Classification\\Mobile_Raw_Data\\Xiaomi\\xiaomi_14Ultra_reddit_posts-360d.csv\",usecols=['selftext'])\n",
    "df_combined_xiaomi = df_combined_xiaomi.reset_index()\n",
    "df_combined_xiaomi['selftext'].dropna(inplace=True)\n",
    "df_combined_xiaomi['Product Brand'] = 'Xiaomi 14 Ultra'\n",
    "df_combined_xiaomi.rename(columns={'index':'Post ID','selftext':'Text'}, inplace=True)\n",
    "df_combined_xiaomi.head()"
   ]
  },
  {
   "cell_type": "code",
   "execution_count": 103,
   "metadata": {},
   "outputs": [
    {
     "data": {
      "text/plain": [
       "(448, 3)"
      ]
     },
     "execution_count": 103,
     "metadata": {},
     "output_type": "execute_result"
    }
   ],
   "source": [
    "df_combined_xiaomi.shape"
   ]
  },
  {
   "cell_type": "code",
   "execution_count": 133,
   "metadata": {},
   "outputs": [
    {
     "data": {
      "text/html": [
       "<div>\n",
       "<style scoped>\n",
       "    .dataframe tbody tr th:only-of-type {\n",
       "        vertical-align: middle;\n",
       "    }\n",
       "\n",
       "    .dataframe tbody tr th {\n",
       "        vertical-align: top;\n",
       "    }\n",
       "\n",
       "    .dataframe thead th {\n",
       "        text-align: right;\n",
       "    }\n",
       "</style>\n",
       "<table border=\"1\" class=\"dataframe\">\n",
       "  <thead>\n",
       "    <tr style=\"text-align: right;\">\n",
       "      <th></th>\n",
       "      <th>Post ID</th>\n",
       "      <th>Text</th>\n",
       "      <th>Product Brand</th>\n",
       "    </tr>\n",
       "  </thead>\n",
       "  <tbody>\n",
       "    <tr>\n",
       "      <th>0</th>\n",
       "      <td>0</td>\n",
       "      <td>I love to see a good trully enthusiast write d...</td>\n",
       "      <td>Xiaomi 14 Ultra</td>\n",
       "    </tr>\n",
       "    <tr>\n",
       "      <th>1</th>\n",
       "      <td>1</td>\n",
       "      <td>Now this is a WELLLLL written and detailed art...</td>\n",
       "      <td>Xiaomi 14 Ultra</td>\n",
       "    </tr>\n",
       "    <tr>\n",
       "      <th>2</th>\n",
       "      <td>2</td>\n",
       "      <td>[deleted]</td>\n",
       "      <td>Xiaomi 14 Ultra</td>\n",
       "    </tr>\n",
       "    <tr>\n",
       "      <th>3</th>\n",
       "      <td>3</td>\n",
       "      <td>its actually an amazing device</td>\n",
       "      <td>Xiaomi 14 Ultra</td>\n",
       "    </tr>\n",
       "    <tr>\n",
       "      <th>4</th>\n",
       "      <td>4</td>\n",
       "      <td>Ditched the s24u and the honor magic 6 pro for...</td>\n",
       "      <td>Xiaomi 14 Ultra</td>\n",
       "    </tr>\n",
       "  </tbody>\n",
       "</table>\n",
       "</div>"
      ],
      "text/plain": [
       "   Post ID                                               Text    Product Brand\n",
       "0        0  I love to see a good trully enthusiast write d...  Xiaomi 14 Ultra\n",
       "1        1  Now this is a WELLLLL written and detailed art...  Xiaomi 14 Ultra\n",
       "2        2                                          [deleted]  Xiaomi 14 Ultra\n",
       "3        3                     its actually an amazing device  Xiaomi 14 Ultra\n",
       "4        4  Ditched the s24u and the honor magic 6 pro for...  Xiaomi 14 Ultra"
      ]
     },
     "execution_count": 133,
     "metadata": {},
     "output_type": "execute_result"
    }
   ],
   "source": [
    "# specify the new folder path and pattern\n",
    "folder_path_xiaomi = r'C:\\Users\\hp\\Documents\\GitHub\\LLM-Enhanced-Text-Classification\\Mobile_Raw_Data\\Xiaomi'\n",
    "file_pattern_xiaomi = 'New_xiaomi*'\n",
    "\n",
    "# get the list of all files matching the pattern in the new folder\n",
    "file_list_xiaomi = glob.glob(f'{folder_path_xiaomi}\\\\{file_pattern_xiaomi}')\n",
    "\n",
    "df_1 = pd.read_csv(file_list_xiaomi[0],usecols=['comment_body'])\n",
    "df_1.rename(columns={'comment_body':'Text'}, inplace=True)\n",
    "df_2 = pd.read_csv(file_list_xiaomi[1],usecols=['selftext'])\n",
    "df_2.rename(columns={'selftext':'Text'}, inplace=True)\n",
    "df_3 = pd.concat([df_1,df_2,df_combined_xiaomi[['Text']]],ignore_index=True)\n",
    "df_3 = df_3.drop_duplicates()\n",
    "df_3 = df_3.reset_index()\n",
    "df_3['Product Brand'] = 'Xiaomi 14 Ultra'\n",
    "df_3.rename(columns={'index':'Post ID'}, inplace=True)\n",
    "\n",
    "# Concatenate all dataframes in the list into a single dataframe\n",
    "df_combined_xiaomi_filtered = df_3\n",
    "df_combined_xiaomi_filtered.head()"
   ]
  },
  {
   "cell_type": "code",
   "execution_count": 135,
   "metadata": {},
   "outputs": [],
   "source": [
    "df_final = pd.concat([df_combined_pixel_final,df_combined_iphone,df_combined_oppo_filtered,df_combined_samsung_filtered,df_combined_xiaomi_filtered],ignore_index=True)#.to_csv(r\"C:\\Users\\hp\\Documents\\GitHub\\LLM-Enhanced-Text-Classification\\Scraped_files\\combined_mobile_data.csv\",index=False)"
   ]
  },
  {
   "cell_type": "code",
   "execution_count": 136,
   "metadata": {},
   "outputs": [],
   "source": [
    "df_final = df_final[~df_final['Text'].isna()]"
   ]
  },
  {
   "cell_type": "code",
   "execution_count": 137,
   "metadata": {},
   "outputs": [],
   "source": [
    "df_final.to_csv(r\"C:\\Users\\hp\\Documents\\GitHub\\LLM-Enhanced-Text-Classification\\Scraped_files\\all_brands_combined_mobile_data_final.csv\",index=False)"
   ]
  },
  {
   "cell_type": "code",
   "execution_count": null,
   "metadata": {},
   "outputs": [],
   "source": []
  }
 ],
 "metadata": {
  "kernelspec": {
   "display_name": "Python 3",
   "language": "python",
   "name": "python3"
  },
  "language_info": {
   "codemirror_mode": {
    "name": "ipython",
    "version": 3
   },
   "file_extension": ".py",
   "mimetype": "text/x-python",
   "name": "python",
   "nbconvert_exporter": "python",
   "pygments_lexer": "ipython3",
   "version": "3.13.1"
  }
 },
 "nbformat": 4,
 "nbformat_minor": 2
}
